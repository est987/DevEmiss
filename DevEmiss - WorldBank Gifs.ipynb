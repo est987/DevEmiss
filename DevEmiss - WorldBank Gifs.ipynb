{
 "cells": [
  {
   "cell_type": "code",
   "execution_count": 5,
   "metadata": {},
   "outputs": [
    {
     "data": {
      "application/javascript": [
       "\n",
       "            setTimeout(function() {\n",
       "                var nbb_cell_id = 5;\n",
       "                var nbb_formatted_code = \"import numpy as np, pandas as pd, geopandas as gpd\\nimport os\\nimport matplotlib.pyplot as plt\\nimport geopandas\\nimport matplotlib.colors as colors\\n\\n%load_ext nb_black\\n%matplotlib inline\";\n",
       "                var nbb_cells = Jupyter.notebook.get_cells();\n",
       "                for (var i = 0; i < nbb_cells.length; ++i) {\n",
       "                    if (nbb_cells[i].input_prompt_number == nbb_cell_id) {\n",
       "                        nbb_cells[i].set_text(nbb_formatted_code);\n",
       "                        break;\n",
       "                    }\n",
       "                }\n",
       "            }, 500);\n",
       "            "
      ],
      "text/plain": [
       "<IPython.core.display.Javascript object>"
      ]
     },
     "metadata": {},
     "output_type": "display_data"
    }
   ],
   "source": [
    "import numpy as np, pandas as pd, geopandas as gpd\n",
    "import os\n",
    "import matplotlib.pyplot as plt\n",
    "import geopandas\n",
    "import matplotlib.colors as colors\n",
    "\n",
    "%load_ext nb_black\n",
    "%matplotlib inline"
   ]
  },
  {
   "cell_type": "code",
   "execution_count": 3,
   "metadata": {},
   "outputs": [],
   "source": [
    "##style graphs\n",
    "from matplotlib import rcParams\n",
    "\n",
    "rcParams[\"font.family\"] = \"Garamond\"\n",
    "rcParams[\"font.size\"] = 14\n",
    "rcParams[\"axes.spines.right\"] = False\n",
    "rcParams[\"axes.spines.top\"] = False\n",
    "rcParams[\"axes.spines.left\"] = False\n",
    "rcParams[\"axes.spines.bottom\"] = False\n",
    "\n",
    "rcParams[\"xtick.bottom\"] = False\n",
    "rcParams[\"xtick.labelbottom\"] = False\n",
    "rcParams[\"ytick.left\"] = False\n",
    "rcParams[\"ytick.labelleft\"] = False"
   ]
  },
  {
   "cell_type": "code",
   "execution_count": 4,
   "metadata": {},
   "outputs": [],
   "source": [
    "##load country boundaries\n",
    "countries = gpd.read_file(\"data/GIS/TM_WORLD_BORDERS-0.3.shp\")\n",
    "countries = countries.to_crs(\"+proj=eqearth\")\n",
    "#countries.crs\n",
    "\n",
    "##load world bank country data\n",
    "country_df = pd.read_csv(\"data/country_data.csv\", encoding=\"latin-1\")\n",
    "#country_df.head()"
   ]
  },
  {
   "cell_type": "code",
   "execution_count": 16,
   "metadata": {},
   "outputs": [
    {
     "data": {
      "application/javascript": [
       "\n",
       "            setTimeout(function() {\n",
       "                var nbb_cell_id = 16;\n",
       "                var nbb_formatted_code = \"## load integrated world bank data file - see DevEmiss.ipynb for table creation code\\nwb_df = pd.read_csv(\\\"data/co2_gdp_wb.csv\\\")\\n\\n## remove zero and negative values\\nwb_df.loc[wb_df[\\\"CO2E.PC\\\"] <= 0, \\\"CO2E.PC\\\"] = np.nan\\n\\n## gdp per co2 per capita\\nwb_df[\\\"PGDP.CO2.PCAP\\\"] = wb_df[\\\"GDP.PCAP\\\"] / wb_df[\\\"CO2E.PC\\\"]\\n# wb_df.columns\\n\\n##clean table\\ngdp_pco2_df = wb_df[\\n    [\\\"Country Name\\\", \\\"Country Code\\\", \\\"year\\\", \\\"CO2E.PC\\\", \\\"GDP.PCAP\\\", \\\"PGDP.CO2.PCAP\\\"]\\n]\\n# gdp_pco2_df.head()\";\n",
       "                var nbb_cells = Jupyter.notebook.get_cells();\n",
       "                for (var i = 0; i < nbb_cells.length; ++i) {\n",
       "                    if (nbb_cells[i].input_prompt_number == nbb_cell_id) {\n",
       "                        nbb_cells[i].set_text(nbb_formatted_code);\n",
       "                        break;\n",
       "                    }\n",
       "                }\n",
       "            }, 500);\n",
       "            "
      ],
      "text/plain": [
       "<IPython.core.display.Javascript object>"
      ]
     },
     "metadata": {},
     "output_type": "display_data"
    }
   ],
   "source": [
    "## load integrated world bank data file - see DevEmiss.ipynb for table creation code\n",
    "wb_df = pd.read_csv(\"data/co2_gdp_wb.csv\")\n",
    "\n",
    "## remove zero and negative values\n",
    "wb_df.loc[wb_df[\"CO2E.PC\"] <= 0, \"CO2E.PC\"] = np.nan\n",
    "\n",
    "## gdp per co2 per capita\n",
    "wb_df[\"PGDP.CO2.PCAP\"] = wb_df[\"GDP.PCAP\"] / wb_df[\"CO2E.PC\"]\n",
    "# wb_df.columns\n",
    "\n",
    "##select relevant columns\n",
    "gdp_pco2_df = wb_df[\n",
    "    [\"Country Name\", \"Country Code\", \"year\", \"CO2E.PC\", \"GDP.PCAP\", \"PGDP.CO2.PCAP\"]\n",
    "]\n",
    "# gdp_pco2_df.head()"
   ]
  },
  {
   "cell_type": "code",
   "execution_count": 14,
   "metadata": {},
   "outputs": [
    {
     "data": {
      "application/javascript": [
       "\n",
       "            setTimeout(function() {\n",
       "                var nbb_cell_id = 14;\n",
       "                var nbb_formatted_code = \"# dict of columns labels\\nval_lab = {\\\"CO2E.PC\\\": \\\"CO2 emissions (ton per capita)\\\"}\\n\\n# return value min and max\\ndef vmin_vmax(df, col):\\n    vmin = df[col].replace(0, np.nan).min()\\n    vmax = df[col].max()\\n\\n    return vmin, vmax\\n\\n\\n## clean table - remove years with unavailable data, replace 0 and negative values\\ndef cleanTable(col):\\n    gdp_pco2_pivot = (\\n        gdp_pco2_df.replace(0, np.nan)\\n        .pivot(index=\\\"year\\\", columns=\\\"Country Code\\\", values=col)\\n        .dropna(how=\\\"all\\\")\\n    )\\n    df = (\\n        gdp_pco2_pivot.transpose()\\n        .reset_index()\\n        .melt(id_vars=\\\"Country Code\\\", value_name=col)\\n    )\\n    name_code = gdp_pco2_df[[\\\"Country Code\\\", \\\"Country Name\\\"]]\\n    df = df.merge(name_code, on=\\\"Country Code\\\").drop_duplicates().reset_index(drop=True)\\n\\n    return df[[\\\"Country Name\\\", \\\"Country Code\\\", \\\"year\\\"] + [col]]\\n\\n\\n## create world plot fig for col\\ndef createWorldPlot(cntry_y, col, filelist, vmin, vmax):\\n\\n    y = cntry_y[\\\"year\\\"].unique().item()\\n    fig, ax = plt.subplots(1, 1, figsize=(7.5, 7.5), dpi=300)\\n\\n    # divider = make_axes_locatable(ax)\\n    # cax1 = divider.append_axes(\\\"bottom\\\", size=\\\"5%\\\", pad=0)\\n    # vmin = cntry_y[\\\"PGDP.CO2.PCAP\\\"].min()\\n    # vmax = 500\\n\\n    cntry_y.dropna().plot(\\n        column=col,\\n        ax=ax,\\n        cmap=\\\"coolwarm\\\",\\n        alpha=0.9,\\n        norm=colors.LogNorm(vmin=vmin, vmax=vmax),\\n    )\\n    plt.axis(\\\"off\\\")\\n    countries.plot(color=\\\"none\\\", edgecolor=\\\"black\\\", ax=ax, linewidth=0.1)\\n\\n    sm = plt.cm.ScalarMappable(\\n        cmap=\\\"coolwarm\\\", norm=colors.LogNorm(vmin=vmin, vmax=vmax)\\n    )\\n    cbaxes = fig.add_axes([0.2, 0.285, 0.66, 0.03])\\n    cbar = fig.colorbar(sm, cax=cbaxes, orientation=\\\"horizontal\\\", label=val_lab[col])\\n    fig.text(0.25, 0.4, y, weight=\\\"bold\\\", size=18)\\n\\n    path = \\\"graphs/maps\\\"\\n    if col not in os.listdir(path):\\n        os.mkdir(\\\"{}/{}\\\".format(path, col))\\n    filename = \\\"{}/{}/{}.png\\\".format(path, col, y)\\n    filelist = filelist.append(filename)\\n    fig.savefig(filename, bbox_inches=\\\"tight\\\")\\n    plt.close(\\\"all\\\")\";\n",
       "                var nbb_cells = Jupyter.notebook.get_cells();\n",
       "                for (var i = 0; i < nbb_cells.length; ++i) {\n",
       "                    if (nbb_cells[i].input_prompt_number == nbb_cell_id) {\n",
       "                        nbb_cells[i].set_text(nbb_formatted_code);\n",
       "                        break;\n",
       "                    }\n",
       "                }\n",
       "            }, 500);\n",
       "            "
      ],
      "text/plain": [
       "<IPython.core.display.Javascript object>"
      ]
     },
     "metadata": {},
     "output_type": "display_data"
    }
   ],
   "source": [
    "# dict of columns labels\n",
    "val_lab = {\"CO2E.PC\": \"CO2 emissions (ton per capita)\"}\n",
    "\n",
    "# return value min and max\n",
    "def vmin_vmax(df, col):\n",
    "    vmin = df[col].replace(0, np.nan).min()\n",
    "    vmax = df[col].max()\n",
    "\n",
    "    return vmin, vmax\n",
    "\n",
    "\n",
    "## clean table - remove years with unavailable data, replace 0 and negative values\n",
    "def cleanTable(col):\n",
    "    gdp_pco2_pivot = (\n",
    "        gdp_pco2_df.replace(0, np.nan)\n",
    "        .pivot(index=\"year\", columns=\"Country Code\", values=col)\n",
    "        .dropna(how=\"all\")\n",
    "    )\n",
    "    df = (\n",
    "        gdp_pco2_pivot.transpose()\n",
    "        .reset_index()\n",
    "        .melt(id_vars=\"Country Code\", value_name=col)\n",
    "    )\n",
    "    name_code = gdp_pco2_df[[\"Country Code\", \"Country Name\"]]\n",
    "    df = df.merge(name_code, on=\"Country Code\").drop_duplicates().reset_index(drop=True)\n",
    "\n",
    "    return df[[\"Country Name\", \"Country Code\", \"year\"] + [col]]\n",
    "\n",
    "\n",
    "## create world plot fig for col\n",
    "def createWorldPlot(cntry_y, col, filelist, vmin, vmax):\n",
    "\n",
    "    y = cntry_y[\"year\"].unique().item()\n",
    "    fig, ax = plt.subplots(1, 1, figsize=(7.5, 7.5), dpi=300)\n",
    "\n",
    "    # divider = make_axes_locatable(ax)\n",
    "    # cax1 = divider.append_axes(\"bottom\", size=\"5%\", pad=0)\n",
    "    # vmin = cntry_y[\"PGDP.CO2.PCAP\"].min()\n",
    "    # vmax = 500\n",
    "\n",
    "    cntry_y.dropna().plot(\n",
    "        column=col,\n",
    "        ax=ax,\n",
    "        cmap=\"coolwarm\",\n",
    "        alpha=0.9,\n",
    "        norm=colors.LogNorm(vmin=vmin, vmax=vmax),\n",
    "    )\n",
    "    plt.axis(\"off\")\n",
    "    countries.plot(color=\"none\", edgecolor=\"black\", ax=ax, linewidth=0.1)\n",
    "\n",
    "    sm = plt.cm.ScalarMappable(\n",
    "        cmap=\"coolwarm\", norm=colors.LogNorm(vmin=vmin, vmax=vmax)\n",
    "    )\n",
    "    cbaxes = fig.add_axes([0.2, 0.285, 0.66, 0.03])\n",
    "    cbar = fig.colorbar(sm, cax=cbaxes, orientation=\"horizontal\", label=val_lab[col])\n",
    "    fig.text(0.25, 0.4, y, weight=\"bold\", size=18)\n",
    "\n",
    "    path = \"graphs/maps\"\n",
    "    if col not in os.listdir(path):\n",
    "        os.mkdir(\"{}/{}\".format(path, col))\n",
    "    filename = \"{}/{}/{}.png\".format(path, col, y)\n",
    "    filelist = filelist.append(filename)\n",
    "    fig.savefig(filename, bbox_inches=\"tight\")\n",
    "    plt.close(\"all\")"
   ]
  },
  {
   "cell_type": "code",
   "execution_count": 19,
   "metadata": {},
   "outputs": [
    {
     "data": {
      "application/javascript": [
       "\n",
       "            setTimeout(function() {\n",
       "                var nbb_cell_id = 19;\n",
       "                var nbb_formatted_code = \"## co2 emissions col\\ncol = \\\"CO2E.PC\\\"\\n\\n# clean table\\ndf = cleanTable(col)\\nfilelist = []\\n\\n### create worldplot maps for col\\nfor year in df.year.sort_values().unique():\\n    vmin, vmax = vmin_vmax(df, col)\\n    y_df = df.loc[df.year == year].reset_index(drop=True)\\n    cntry_y = countries[[\\\"ISO3\\\", \\\"geometry\\\"]].merge(\\n        y_df, left_on=\\\"ISO3\\\", right_on=\\\"Country Code\\\"\\n    )\\n    createWorldPlot(cntry_y, col, filelist, vmin, vmax)\\n    break\\n# print(filelist)\";\n",
       "                var nbb_cells = Jupyter.notebook.get_cells();\n",
       "                for (var i = 0; i < nbb_cells.length; ++i) {\n",
       "                    if (nbb_cells[i].input_prompt_number == nbb_cell_id) {\n",
       "                        nbb_cells[i].set_text(nbb_formatted_code);\n",
       "                        break;\n",
       "                    }\n",
       "                }\n",
       "            }, 500);\n",
       "            "
      ],
      "text/plain": [
       "<IPython.core.display.Javascript object>"
      ]
     },
     "metadata": {},
     "output_type": "display_data"
    }
   ],
   "source": [
    "## co2 emissions col\n",
    "col = \"CO2E.PC\"\n",
    "\n",
    "# clean table\n",
    "df = cleanTable(col)\n",
    "filelist = []\n",
    "\n",
    "### create worldplot maps for col\n",
    "for year in df.year.sort_values().unique():\n",
    "    vmin, vmax = vmin_vmax(df, col)\n",
    "    y_df = df.loc[df.year == year].reset_index(drop=True)\n",
    "    cntry_y = countries[[\"ISO3\", \"geometry\"]].merge(\n",
    "        y_df, left_on=\"ISO3\", right_on=\"Country Code\"\n",
    "    )\n",
    "    createWorldPlot(cntry_y, col, filelist, vmin, vmax)\n",
    "# print(filelist)"
   ]
  },
  {
   "cell_type": "code",
   "execution_count": null,
   "metadata": {},
   "outputs": [],
   "source": [
    "## CREATE GIFs\n",
    "\n",
    "# PIL AND imageio were low quality, use gifski (https://gif.ski) instead\n",
    "# windows command line: gifski -o co2e_pc.gif CO2E.PC/*.png --fps 8\n",
    "\n",
    "\n",
    "\n",
    "# from PIL import Image\n",
    "\n",
    "# frames = []\n",
    "# for filename in filelist:\n",
    "#     im = Image.open(filename)\n",
    "#     frames.append(im)\n",
    "\n",
    "# frames[0].save(\n",
    "#     \"graphs/maps/{}.gif\".format(col),\n",
    "#     format=\"GIF\",\n",
    "#     append_images=frames[1:],\n",
    "#     save_all=True,\n",
    "#     duration=100,\n",
    "#     loop=0,\n",
    "# )\n",
    "\n",
    "\n",
    "# import imageio\n",
    "\n",
    "# images = []\n",
    "# for filename in filelist:\n",
    "#     images.append(imageio.imread(filename))\n",
    "# imageio.mimsave(\"graphs/maps/{}.gif\".format(col), images,  duration=0.1)"
   ]
  }
 ],
 "metadata": {
  "kernelspec": {
   "display_name": "Python 3",
   "language": "python",
   "name": "python3"
  },
  "language_info": {
   "codemirror_mode": {
    "name": "ipython",
    "version": 3
   },
   "file_extension": ".py",
   "mimetype": "text/x-python",
   "name": "python",
   "nbconvert_exporter": "python",
   "pygments_lexer": "ipython3",
   "version": "3.7.3"
  }
 },
 "nbformat": 4,
 "nbformat_minor": 2
}
